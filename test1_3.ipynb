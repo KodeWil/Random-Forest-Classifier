{
  "nbformat": 4,
  "nbformat_minor": 0,
  "metadata": {
    "colab": {
      "name": "test1_3.ipynb",
      "provenance": [],
      "collapsed_sections": [],
      "authorship_tag": "ABX9TyOFozpfEVAZ0keniGXNo3yy"
    },
    "kernelspec": {
      "name": "python3",
      "display_name": "Python 3"
    }
  },
  "cells": [
    {
      "cell_type": "code",
      "metadata": {
        "id": "zLvRL-9CLBqL",
        "colab_type": "code",
        "colab": {}
      },
      "source": [
        "from sklearn.datasets import load_digits\n",
        "from sklearn.model_selection import train_test_split\n",
        "from sklearn.ensemble import RandomForestClassifier\n",
        "from sklearn.metrics import confusion_matrix\n",
        "import numpy as np\n",
        "import matplotlib.pyplot as plt\n",
        "from matplotlib.colors import ListedColormap\n",
        "from sklearn.metrics import roc_curve, auc\n",
        "import copy"
      ],
      "execution_count": 0,
      "outputs": []
    },
    {
      "cell_type": "code",
      "metadata": {
        "id": "LSdsL9R-Qsbe",
        "colab_type": "code",
        "colab": {}
      },
      "source": [
        "def moreImportant(importance):\n",
        "  arrSorted = copy.deepcopy(importance)\n",
        "  arrSorted.sort()\n",
        "  arrSorted = arrSorted[::-1]\n",
        "  indxs = []\n",
        "  for i in range(0,5):\n",
        "    temp = np.where(arrSorted[i] == importance)\n",
        "    temp = int(temp[0])\n",
        "    indxs.append(temp)\n",
        "  \n",
        "  return indxs"
      ],
      "execution_count": 0,
      "outputs": []
    },
    {
      "cell_type": "code",
      "metadata": {
        "id": "-FPdzBakC7gA",
        "colab_type": "code",
        "colab": {}
      },
      "source": [
        "def arrayExtend(array):\n",
        "  binaryList = []\n",
        "  for i in range (0,10):\n",
        "    tempArray = np.zeros((len(array)))\n",
        "    binaryList.append(tempArray)\n",
        "  ind = 0\n",
        "  for i in array:\n",
        "    temp = binaryList[i]\n",
        "    temp[ind] = 1\n",
        "    ind = ind + 1\n",
        "  return binaryList"
      ],
      "execution_count": 0,
      "outputs": []
    },
    {
      "cell_type": "code",
      "metadata": {
        "id": "TifqtrtlNuLx",
        "colab_type": "code",
        "colab": {}
      },
      "source": [
        "def forest(clfs,estimators,featuresFracs):\n",
        "  for estimator in estimators:\n",
        "    for featuresFrac in featuresFracs:   \n",
        "      clfs.append(RandomForestClassifier(\n",
        "              n_estimators = estimator,\n",
        "              #integer, optional (default=100)\n",
        "              criterion=\"gini\",\n",
        "              #string, optional (default=”gini”)\n",
        "              max_depth=None,\n",
        "              #integer or None, optional (default=None)\n",
        "              min_samples_split=2,\n",
        "              #int, float, optional (default=2)\n",
        "              min_samples_leaf=1,\n",
        "              #int, float, optional (default=1)\n",
        "              min_weight_fraction_leaf=0.0,\n",
        "              #float, optional (default=0.)\n",
        "              max_features= featuresFrac,\n",
        "              #int, float, string or None, optional (default=”auto”)\n",
        "              max_leaf_nodes=None,\n",
        "              #int or None, optional (default=None)\n",
        "              min_impurity_decrease=0.0,\n",
        "              #float, optional (default=0.)\n",
        "              bootstrap=True,\n",
        "              #boolean, optional (default=True)\n",
        "              oob_score=False,\n",
        "              #bool (default=False)\n",
        "              n_jobs=None,\n",
        "              #int or None, optional (default=None)\n",
        "              random_state=None,\n",
        "              #int, RandomState instance or None, optional (default=None)\n",
        "              verbose=0,\n",
        "              #int, optional (default=0)\n",
        "              warm_start=False,\n",
        "              #bool, optional (default=False)\n",
        "              ccp_alpha=0.0,\n",
        "              #non-negative float, optional (default=0.0)\n",
        "              max_samples=None\n",
        "              #int or float, default=None\n",
        "              ))\n"
      ],
      "execution_count": 0,
      "outputs": []
    },
    {
      "cell_type": "code",
      "metadata": {
        "id": "PMYGr61gLbON",
        "colab_type": "code",
        "outputId": "ba59f0a3-c26c-4135-f907-8e1aa00c7451",
        "colab": {
          "base_uri": "https://localhost:8080/",
          "height": 648
        }
      },
      "source": [
        "X, y = load_digits(return_X_y=True)\n",
        "X_train, X_test, y_train, y_test = \\\n",
        "    train_test_split(X, y, test_size=.3)\n",
        "estimators = [5, 100]\n",
        "featuresFracs = [0.1, 0.6]\n",
        "clfs = []\n",
        "forest(clfs, estimators, featuresFracs)\n",
        "description = []\n",
        "for i in range(1,5):\n",
        "  if i<3:\n",
        "    estStr = 'Trees in forest =  ' + str(estimators[0])\n",
        "  else:\n",
        "    estStr = 'Trees in forest =  ' + str(estimators[1])\n",
        "  if i%2==1:\n",
        "    fracStr = ' Features fraction used =  ' + str(featuresFracs[0])\n",
        "  else:\n",
        "    fracStr = ' Features fraction used =  ' + str(featuresFracs[1])\n",
        "  description.append(estStr + fracStr)\n",
        "\n",
        "desc = 0\n",
        "for j in clfs:\n",
        "  print('')\n",
        "  print('Random forest description')\n",
        "  print(description[desc] )\n",
        "  print('-------------')\n",
        "  print('')\n",
        "  j.fit(X_train, y_train)\n",
        "  y_testList = arrayExtend(y_test)\n",
        "  ind = 0\n",
        "  desc = desc + 1\n",
        "  for i in y_testList:\n",
        "    print('')\n",
        "    print('Curva Roc para: ' + str(ind))\n",
        "    print('-------------')\n",
        "    print('')\n",
        "    y_prob = j.predict_proba(X_test)[:,ind]\n",
        "    fpr_rt_tb, tpr_rt_tb, th = roc_curve(i, y_prob)\n",
        "    roc_auc = auc(fpr_rt_tb, tpr_rt_tb)\n",
        "    plt.figure()\n",
        "    lw = 2\n",
        "    plt.plot(fpr_rt_tb, tpr_rt_tb, color='darkorange',\n",
        "            lw=lw, label='ROC curve (area = %0.2f)' % roc_auc)\n",
        "    plt.plot([0, 1], [0, 1], color='navy', lw=lw, linestyle='--')\n",
        "    plt.xlim([0.0, 1.0])\n",
        "    plt.ylim([0.0, 1.05])\n",
        "    plt.xlabel('False Positive Rate')\n",
        "    plt.ylabel('True Positive Rate')\n",
        "    plt.title('Receiver operating characteristic example - Tree Bagging')\n",
        "    plt.legend(loc=\"lower right\")\n",
        "    plt.show()\n",
        "    ind = ind + 1\n",
        "clf2 = []\n",
        "estimators = [10]\n",
        "featuresFracs = [0.2, 0.4, 0.6, 0.8, 0.99]\n",
        "forest(clf2, estimators, featuresFracs)\n",
        "important = []\n",
        "features = []\n",
        "for i in clf2:\n",
        "  i.fit(X_train, y_train)\n",
        "  fImpor = i.feature_importances_\n",
        "  important.append(moreImportant(fImpor))\n",
        "  features.append(i.classes_)\n",
        "#Plot a bar chart for the most important features\n",
        "bars=[]\n",
        "for top in important:\n",
        "  for feature in top:\n",
        "    bars.append(feature)\n",
        "bars.sort()\n",
        "last = bars[0]\n",
        "tuples = []\n",
        "tempCount = 0\n",
        "for label in bars:\n",
        "  if last == label:\n",
        "    tempCount = tempCount + 1\n",
        "  else:\n",
        "    n = str(last)\n",
        "    string = 'F ['+n+']'\n",
        "    tuples.append((string, tempCount))\n",
        "    tempCount = 1\n",
        "    last = label\n",
        "print('')\n",
        "print('Bar chart Feature number vs appearances')\n",
        "print('')\n",
        "labels, ys = zip(*tuples)\n",
        "xs = np.arange(len(labels)) * 50\n",
        "width = 40\n",
        "\n",
        "plt.bar(xs, ys, width, align='center')\n",
        "\n",
        "plt.xticks(xs, labels) \n",
        "plt.yticks(ys)\n",
        "\n",
        "plt.savefig('netscore.png')"
      ],
      "execution_count": 29,
      "outputs": [
        {
          "output_type": "stream",
          "text": [
            "\n",
            "Random forest description\n",
            "Trees in forest =  5 Features fraction used =  0.1\n",
            "-------------\n",
            "\n",
            "\n",
            "Random forest description\n",
            "Trees in forest =  5 Features fraction used =  0.6\n",
            "-------------\n",
            "\n",
            "\n",
            "Random forest description\n",
            "Trees in forest =  100 Features fraction used =  0.1\n",
            "-------------\n",
            "\n",
            "\n",
            "Random forest description\n",
            "Trees in forest =  100 Features fraction used =  0.6\n",
            "-------------\n",
            "\n",
            "\n",
            "Bar chart Feature number vs appearances\n",
            "\n"
          ],
          "name": "stdout"
        },
        {
          "output_type": "display_data",
          "data": {
            "image/png": "[encoded data removed]",
            "text/plain": [
              "<Figure size 432x288 with 1 Axes>"
            ]
          },
          "metadata": {
            "tags": []
          }
        }
      ]
    }
  ]
}